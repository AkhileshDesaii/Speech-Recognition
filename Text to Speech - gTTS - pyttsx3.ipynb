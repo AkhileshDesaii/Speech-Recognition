{
 "cells": [
  {
   "cell_type": "markdown",
   "id": "145112ba",
   "metadata": {},
   "source": [
    "# Google Text to Speech API"
   ]
  },
  {
   "cell_type": "code",
   "execution_count": 1,
   "id": "48d323f7",
   "metadata": {},
   "outputs": [
    {
     "name": "stdout",
     "output_type": "stream",
     "text": [
      "Requirement already satisfied: gTTS in c:\\users\\user\\anaconda3\\lib\\site-packages (2.2.4)\n",
      "Requirement already satisfied: click in c:\\users\\user\\anaconda3\\lib\\site-packages (from gTTS) (8.0.3)\n",
      "Requirement already satisfied: six in c:\\users\\user\\anaconda3\\lib\\site-packages (from gTTS) (1.16.0)\n",
      "Requirement already satisfied: requests in c:\\users\\user\\anaconda3\\lib\\site-packages (from gTTS) (2.26.0)\n",
      "Requirement already satisfied: colorama in c:\\users\\user\\anaconda3\\lib\\site-packages (from click->gTTS) (0.4.4)\n",
      "Requirement already satisfied: idna<4,>=2.5 in c:\\users\\user\\anaconda3\\lib\\site-packages (from requests->gTTS) (3.2)\n",
      "Requirement already satisfied: charset-normalizer~=2.0.0 in c:\\users\\user\\anaconda3\\lib\\site-packages (from requests->gTTS) (2.0.4)\n",
      "Requirement already satisfied: certifi>=2017.4.17 in c:\\users\\user\\anaconda3\\lib\\site-packages (from requests->gTTS) (2021.10.8)\n",
      "Requirement already satisfied: urllib3<1.27,>=1.21.1 in c:\\users\\user\\anaconda3\\lib\\site-packages (from requests->gTTS) (1.26.7)\n"
     ]
    }
   ],
   "source": [
    "# install the module\n",
    "!pip install gTTS"
   ]
  },
  {
   "cell_type": "code",
   "execution_count": 2,
   "id": "750f9e7e",
   "metadata": {},
   "outputs": [
    {
     "data": {
      "text/plain": [
       "0"
      ]
     },
     "execution_count": 2,
     "metadata": {},
     "output_type": "execute_result"
    }
   ],
   "source": [
    "from gtts import gTTS\n",
    "import os\n",
    "\n",
    "# input\n",
    "text = \"Welcome to my world. Im the only one to do this\"\n",
    "\n",
    "# convert text to speech\n",
    "text_to_speech = gTTS(text=text, lang='en', slow=False)\n",
    "\n",
    "# save the audio file\n",
    "text_to_speech.save(\"test.mp3\")\n",
    "\n",
    "# play the audio\n",
    "os.system(\"test.mp3\")"
   ]
  },
  {
   "cell_type": "code",
   "execution_count": null,
   "id": "a9a3dae4",
   "metadata": {},
   "outputs": [],
   "source": []
  },
  {
   "cell_type": "markdown",
   "id": "0d9e3422",
   "metadata": {},
   "source": [
    "# Pyttsx - Offline"
   ]
  },
  {
   "cell_type": "code",
   "execution_count": 3,
   "id": "2553347b",
   "metadata": {},
   "outputs": [
    {
     "name": "stdout",
     "output_type": "stream",
     "text": [
      "Requirement already satisfied: pyttsx3 in c:\\users\\user\\anaconda3\\lib\\site-packages (2.90)\n",
      "Requirement already satisfied: comtypes in c:\\users\\user\\anaconda3\\lib\\site-packages (from pyttsx3) (1.1.10)\n",
      "Requirement already satisfied: pywin32 in c:\\users\\user\\anaconda3\\lib\\site-packages (from pyttsx3) (228)\n",
      "Requirement already satisfied: pypiwin32 in c:\\users\\user\\anaconda3\\lib\\site-packages (from pyttsx3) (223)\n"
     ]
    }
   ],
   "source": [
    "# install the module\n",
    "!pip install pyttsx3"
   ]
  },
  {
   "cell_type": "code",
   "execution_count": 4,
   "id": "b6fe1111",
   "metadata": {},
   "outputs": [],
   "source": [
    "import pyttsx3\n",
    "\n",
    "# input\n",
    "text = \"Welcome to my world. Im the only one to do this\"\n",
    "\n",
    "# initialize the module\n",
    "text_to_speech = pyttsx3.init()\n",
    "\n",
    "# adjust the speed\n",
    "text_to_speech.setProperty('rate',150)\n",
    "\n",
    "# change the voice\n",
    "voices = text_to_speech.getProperty('voices')\n",
    "text_to_speech.setProperty('voice', voices[0].id) # 0 for mail and 1 for femail\n",
    "\n",
    "# convert text to speech\n",
    "text_to_speech.say(text)\n",
    "\n",
    "# save the audio file\n",
    "text_to_speech.save_to_file(text, \"test.mp3\")\n",
    "\n",
    "# listen to audio\n",
    "text_to_speech.runAndWait()"
   ]
  },
  {
   "cell_type": "code",
   "execution_count": null,
   "id": "37d4d80f",
   "metadata": {},
   "outputs": [],
   "source": []
  }
 ],
 "metadata": {
  "kernelspec": {
   "display_name": "Python 3 (ipykernel)",
   "language": "python",
   "name": "python3"
  },
  "language_info": {
   "codemirror_mode": {
    "name": "ipython",
    "version": 3
   },
   "file_extension": ".py",
   "mimetype": "text/x-python",
   "name": "python",
   "nbconvert_exporter": "python",
   "pygments_lexer": "ipython3",
   "version": "3.9.7"
  }
 },
 "nbformat": 4,
 "nbformat_minor": 5
}
