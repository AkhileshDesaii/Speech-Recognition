{
 "cells": [
  {
   "cell_type": "code",
   "execution_count": 1,
   "id": "c74366d7",
   "metadata": {},
   "outputs": [
    {
     "name": "stdout",
     "output_type": "stream",
     "text": [
      "Requirement already satisfied: SpeechRecognition in c:\\users\\user\\anaconda3\\lib\\site-packages (3.8.1)\n",
      "Note: you may need to restart the kernel to use updated packages.\n"
     ]
    }
   ],
   "source": [
    "pip install SpeechRecognition"
   ]
  },
  {
   "cell_type": "code",
   "execution_count": 2,
   "id": "b69edb33",
   "metadata": {},
   "outputs": [
    {
     "name": "stdout",
     "output_type": "stream",
     "text": [
      "Requirement already satisfied: pyttsx3 in c:\\users\\user\\anaconda3\\lib\\site-packages (2.90)\n",
      "Requirement already satisfied: pypiwin32 in c:\\users\\user\\anaconda3\\lib\\site-packages (from pyttsx3) (223)\n",
      "Requirement already satisfied: comtypes in c:\\users\\user\\anaconda3\\lib\\site-packages (from pyttsx3) (1.1.10)\n",
      "Requirement already satisfied: pywin32 in c:\\users\\user\\anaconda3\\lib\\site-packages (from pyttsx3) (228)\n",
      "Note: you may need to restart the kernel to use updated packages.\n"
     ]
    }
   ],
   "source": [
    "pip install pyttsx3"
   ]
  },
  {
   "cell_type": "code",
   "execution_count": 3,
   "id": "434ce19f",
   "metadata": {},
   "outputs": [],
   "source": [
    "import speech_recognition as sr\n",
    "import pyttsx3"
   ]
  },
  {
   "cell_type": "code",
   "execution_count": 4,
   "id": "6e3ef4bf",
   "metadata": {},
   "outputs": [],
   "source": [
    "# Initialize the recognizer\n",
    "r = sr.Recognizer()\n",
    "\n",
    "# Function to convert text to \n",
    "# speech\n",
    "def SpeakText(command):\n",
    "    \n",
    "    # Initialize the engine\n",
    "    engine = pyttsx3.init()\n",
    "    engine.say(command)\n",
    "    engine.runAndWait()\n",
    "    \n",
    "SpeakText(\"hello world\")"
   ]
  },
  {
   "cell_type": "code",
   "execution_count": 5,
   "id": "92fc7d5c",
   "metadata": {},
   "outputs": [],
   "source": [
    "# Initialize the recognizer\n",
    "r = sr.Recognizer()\n",
    "\n",
    "# Function to convert text to \n",
    "# speech\n",
    "def SpeakText(command):\n",
    "    \n",
    "    # Initialize the engine\n",
    "    engine = pyttsx3.init()\n",
    "    engine.say(command)\n",
    "    engine.runAndWait()"
   ]
  },
  {
   "cell_type": "code",
   "execution_count": 6,
   "id": "4465a26e",
   "metadata": {},
   "outputs": [
    {
     "name": "stdout",
     "output_type": "stream",
     "text": [
      "Requirement already satisfied: pipwin in c:\\users\\user\\anaconda3\\lib\\site-packages (0.5.2)Note: you may need to restart the kernel to use updated packages.\n",
      "\n",
      "Requirement already satisfied: docopt in c:\\users\\user\\anaconda3\\lib\\site-packages (from pipwin) (0.6.2)\n",
      "Requirement already satisfied: six in c:\\users\\user\\anaconda3\\lib\\site-packages (from pipwin) (1.16.0)\n",
      "Requirement already satisfied: requests in c:\\users\\user\\anaconda3\\lib\\site-packages (from pipwin) (2.26.0)\n",
      "Requirement already satisfied: pyprind in c:\\users\\user\\anaconda3\\lib\\site-packages (from pipwin) (2.11.3)\n",
      "Requirement already satisfied: pySmartDL>=1.3.1 in c:\\users\\user\\anaconda3\\lib\\site-packages (from pipwin) (1.3.4)\n",
      "Requirement already satisfied: beautifulsoup4>=4.9.0 in c:\\users\\user\\anaconda3\\lib\\site-packages (from pipwin) (4.10.0)\n",
      "Requirement already satisfied: js2py in c:\\users\\user\\anaconda3\\lib\\site-packages (from pipwin) (0.71)\n",
      "Requirement already satisfied: packaging in c:\\users\\user\\anaconda3\\lib\\site-packages (from pipwin) (21.0)\n",
      "Requirement already satisfied: soupsieve>1.2 in c:\\users\\user\\anaconda3\\lib\\site-packages (from beautifulsoup4>=4.9.0->pipwin) (2.2.1)\n",
      "Requirement already satisfied: pyjsparser>=2.5.1 in c:\\users\\user\\anaconda3\\lib\\site-packages (from js2py->pipwin) (2.7.1)\n",
      "Requirement already satisfied: tzlocal>=1.2 in c:\\users\\user\\anaconda3\\lib\\site-packages (from js2py->pipwin) (4.2)\n",
      "Requirement already satisfied: tzdata in c:\\users\\user\\anaconda3\\lib\\site-packages (from tzlocal>=1.2->js2py->pipwin) (2022.1)\n",
      "Requirement already satisfied: pytz-deprecation-shim in c:\\users\\user\\anaconda3\\lib\\site-packages (from tzlocal>=1.2->js2py->pipwin) (0.1.0.post0)\n",
      "Requirement already satisfied: pyparsing>=2.0.2 in c:\\users\\user\\anaconda3\\lib\\site-packages (from packaging->pipwin) (3.0.4)\n",
      "Requirement already satisfied: charset-normalizer~=2.0.0 in c:\\users\\user\\anaconda3\\lib\\site-packages (from requests->pipwin) (2.0.4)\n",
      "Requirement already satisfied: urllib3<1.27,>=1.21.1 in c:\\users\\user\\anaconda3\\lib\\site-packages (from requests->pipwin) (1.26.7)\n",
      "Requirement already satisfied: certifi>=2017.4.17 in c:\\users\\user\\anaconda3\\lib\\site-packages (from requests->pipwin) (2021.10.8)\n",
      "Requirement already satisfied: idna<4,>=2.5 in c:\\users\\user\\anaconda3\\lib\\site-packages (from requests->pipwin) (3.2)\n"
     ]
    }
   ],
   "source": [
    "pip install pipwin"
   ]
  },
  {
   "cell_type": "code",
   "execution_count": 7,
   "id": "337a4c4a",
   "metadata": {},
   "outputs": [
    {
     "name": "stdout",
     "output_type": "stream",
     "text": [
      "Requirement already satisfied: pyaudio in c:\\users\\user\\anaconda3\\lib\\site-packages (0.2.12)\n",
      "Note: you may need to restart the kernel to use updated packages.\n"
     ]
    }
   ],
   "source": [
    "pip install pyaudio"
   ]
  },
  {
   "cell_type": "code",
   "execution_count": 8,
   "id": "bc3e9d21",
   "metadata": {},
   "outputs": [
    {
     "name": "stdout",
     "output_type": "stream",
     "text": [
      "Silence please, calibrating background noise\n",
      "Calibrated, now speak.....\n",
      "Did you sayhello man\n"
     ]
    }
   ],
   "source": [
    "# use the microphone as source of input\n",
    "with sr.Microphone() as source2:\n",
    "    # wait for a second to let the recognizer\n",
    "    # adjust the energy threshold based on\n",
    "    # the surrounding noise level\n",
    "    \n",
    "    print(\"Silence please, calibrating background noise\")\n",
    "    r.adjust_for_ambient_noise(source2, duration=2)\n",
    "    print(\"Calibrated, now speak.....\")\n",
    "    \n",
    "    #listens for the user's input\n",
    "    audio2 = r.listen(source2)\n",
    "    \n",
    "    #using google to recognize audio\n",
    "    MyText = r.recognize_google(audio2)\n",
    "    MyText = MyText.lower()\n",
    "    \n",
    "    print(\"Did you say\"+MyText)\n",
    "    \n",
    "    \n",
    "  "
   ]
  },
  {
   "cell_type": "code",
   "execution_count": null,
   "id": "c7679d48",
   "metadata": {},
   "outputs": [],
   "source": []
  },
  {
   "cell_type": "code",
   "execution_count": null,
   "id": "0d08beca",
   "metadata": {},
   "outputs": [],
   "source": []
  }
 ],
 "metadata": {
  "kernelspec": {
   "display_name": "Python 3 (ipykernel)",
   "language": "python",
   "name": "python3"
  },
  "language_info": {
   "codemirror_mode": {
    "name": "ipython",
    "version": 3
   },
   "file_extension": ".py",
   "mimetype": "text/x-python",
   "name": "python",
   "nbconvert_exporter": "python",
   "pygments_lexer": "ipython3",
   "version": "3.9.7"
  }
 },
 "nbformat": 4,
 "nbformat_minor": 5
}
